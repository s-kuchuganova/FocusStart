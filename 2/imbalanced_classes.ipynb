{
 "cells": [
  {
   "cell_type": "markdown",
   "metadata": {},
   "source": [
    "<h1>Методы борьбы с несбалансированными классами</h1>"
   ]
  },
  {
   "cell_type": "markdown",
   "metadata": {},
   "source": [
    "Часто, полученные нами данные оказываются несбалансированными, то есть объектов одного класса оказывается в несколько раз больше чем другого(к примеру, 90% и 10%).Большинство алгоритмов машинного обучения хорошо работают когда количество представителей каждого класса примерно равны.Это потому что большинство алгоритмов заточено на максимизацию точности (accuracy) и минимизацию ошибок.Для корректной работы важно правильно настроить методы и метрики, чтобы достигнуть желыемых целей."
   ]
  },
  {
   "cell_type": "markdown",
   "metadata": {},
   "source": [
    "К примеру, в используемом нами датасете мы заинтересованы в выявлении мошеннических операций по карте, которые составляют всего 0,17% от всего датасета. Если в этом случае мы будем использовать accuracy в качестве основной метрики, то получим отличный, но бесполезный на практике результат - 99,8% что говорит лишь о качестве выявления мажорируемого класса - неинтересующие нас немошеннические операции.\n",
    "\n"
   ]
  },
  {
   "cell_type": "markdown",
   "metadata": {},
   "source": [
    "Поэтому для несбалансированных данных предпочтительнее использовать такие метрики как <b>precision<b>, <b>recall<b>, и <b>f1-score<b>"
   ]
  },
  {
   "cell_type": "markdown",
   "metadata": {},
   "source": [
    "<h2>Как справиться с несбалансированным датасетом? </h2>\n",
    "\n",
    "<ul>\n",
    "  <li><h4>Under-Sampling</h4>  Уменьшить количество представителей мажорного класса </li>  \n",
    "  <li><h4>Over-Sampling</h4>    Добавить копий представителей минорного класса</li> \n",
    "  <li><h4>SMOTE</h4> Искусственно синтезировать экземпляры минорного класса    </li>\n",
    "  <li><h4>Change the algorithm</h4>Воспользоваться другим алгоритмом классификации    </li>\n",
    "    \n",
    "</ul>"
   ]
  },
  {
   "cell_type": "markdown",
   "metadata": {},
   "source": [
    "<h3> Исходный датасет и LogRegression </h3>"
   ]
  },
  {
   "cell_type": "code",
   "execution_count": 21,
   "metadata": {},
   "outputs": [],
   "source": [
    "import pandas as pd\n",
    "import numpy as np\n",
    "from sklearn.linear_model import LogisticRegression\n",
    "from sklearn.model_selection import train_test_split\n",
    "from sklearn.utils import resample\n",
    "from sklearn.metrics import classification_report\n",
    "from sklearn.metrics import precision_score\n",
    "from sklearn.metrics import recall_score\n",
    "from sklearn.metrics import accuracy_score\n",
    "from sklearn.metrics import f1_score\n",
    "\n",
    "\n",
    "creditcard = pd.read_csv('creditcard.csv')\n",
    "y = creditcard.Class\n",
    "X = creditcard.drop('Class', axis=1)\n",
    "\n",
    "X_train, X_test, y_train, y_test = train_test_split(X, y, test_size=0.25, random_state=27)\n",
    "\n",
    "lr = LogisticRegression(solver='liblinear').fit(X_train, y_train)\n",
    "\n",
    "lr_pred = lr.predict(X_test)\n",
    "#accuracy_score(y_test, lr_pred)\n",
    "#recall_score(y_test, lr_pred)\n",
    "#f1_score(y_test, lr_pred)\n",
    "\n"
   ]
  },
  {
   "cell_type": "markdown",
   "metadata": {},
   "source": [
    "|accuracy | recall | f1-score |\n",
    "|---------|--------|----------|\n",
    "|0,999    |0,644   |0,724     |"
   ]
  },
  {
   "cell_type": "markdown",
   "metadata": {},
   "source": [
    "<h3>Over-Sampling minority class</h3>"
   ]
  },
  {
   "cell_type": "code",
   "execution_count": 16,
   "metadata": {},
   "outputs": [
    {
     "data": {
      "text/plain": [
       "0.14375000000000002"
      ]
     },
     "execution_count": 16,
     "metadata": {},
     "output_type": "execute_result"
    }
   ],
   "source": [
    "from sklearn.utils import resample\n",
    "\n",
    "\n",
    "creditcard = pd.read_csv('creditcard.csv')\n",
    "y = creditcard.Class\n",
    "X = creditcard.drop('Class', axis=1)\n",
    "\n",
    "X_train, X_test, y_train, y_test = train_test_split(X, y, test_size=0.25, random_state=27)\n",
    "\n",
    "#соединим тренировочный сет обратно\n",
    "X = pd.concat([X_train, y_train], axis=1)\n",
    "\n",
    "#выделим классы fraud и non-fraud\n",
    "not_fraud = X[X.Class==0]\n",
    "fraud = X[X.Class==1]\n",
    "\n",
    "#увеличиваем количество представителей минорного класса\n",
    "fraud_upsampled = resample(fraud,replace=True,n_samples=len(not_fraud),random_state=27)\n",
    "\n",
    "#соединяеям все в один датасет\n",
    "upsampled = pd.concat([not_fraud, fraud_upsampled])\n",
    "\n",
    "y_train = upsampled.Class\n",
    "X_train = upsampled.drop('Class', axis=1)\n",
    "\n",
    "upsampled = LogisticRegression(solver='liblinear').fit(X_train, y_train)\n",
    "\n",
    "upsampled_pred = upsampled.predict(X_test)\n",
    "\n",
    "#accuracy_score(y_test, upsampled_pred)\n",
    "#recall_score(y_test, upsamled_pred)\n",
    "#f1_score(y_test, upsampled_pred)\n",
    "\n",
    "\n",
    "\n"
   ]
  },
  {
   "cell_type": "markdown",
   "metadata": {},
   "source": [
    "|accuracy | recall | f1-score | dataset |\n",
    "|---------|--------|----------|---------|\n",
    "|0,999    |0,644   |0,724     | original|\n",
    "|0,980    |0,871   |0,143     |over     |\n",
    "\n",
    "Не самый лучший вариант, потому что recall увеличилась, но F1 мера сильно упала"
   ]
  },
  {
   "cell_type": "markdown",
   "metadata": {},
   "source": [
    "<h3>Under-Sampling majority class</h3>"
   ]
  },
  {
   "cell_type": "code",
   "execution_count": 22,
   "metadata": {},
   "outputs": [],
   "source": [
    "creditcard = pd.read_csv('creditcard.csv')\n",
    "y = creditcard.Class\n",
    "X = creditcard.drop('Class', axis=1)\n",
    "\n",
    "X_train, X_test, y_train, y_test = train_test_split(X, y, test_size=0.25, random_state=27)\n",
    "\n",
    "#выделяем тренировочный сет\n",
    "X = pd.concat([X_train, y_train], axis=1)\n",
    "\n",
    "not_fraud = X[X.Class==0]\n",
    "fraud = X[X.Class==1]\n",
    "\n",
    "#уменьшаем количество мажорного класса\n",
    "not_fraud_downsampled = resample(not_fraud,replace = False, n_samples = len(fraud),random_state = 27)\n",
    "\n",
    "downsampled = pd.concat([not_fraud_downsampled, fraud])\n",
    "\n",
    "y_train = downsampled.Class\n",
    "X_train = downsampled.drop('Class', axis=1)\n",
    "\n",
    "undersampled = LogisticRegression(solver='liblinear').fit(X_train, y_train)\n",
    "\n",
    "undersampled_pred = undersampled.predict(X_test)\n",
    "\n"
   ]
  },
  {
   "cell_type": "markdown",
   "metadata": {},
   "source": [
    "|accuracy | recall | f1-score | dataset |\n",
    "|---------|--------|----------|---------|\n",
    "|0,999    |0,644   |0,724     | original|\n",
    "|0,975    |0,863   |0,117     |under    |\n",
    "\n",
    "Так же не лучший вариант"
   ]
  },
  {
   "cell_type": "markdown",
   "metadata": {},
   "source": [
    "Еще один способ балансировки данных - искусственное их синтезирование <b>SMOTE(Synthetic Minority Oversampling Technique).</b>\n",
    "    При таком подходе мы искусственно добавляем экземпляры минорного класса по методу ближайших соседей."
   ]
  },
  {
   "cell_type": "markdown",
   "metadata": {},
   "source": [
    "<h3>SMOTE</h3>"
   ]
  },
  {
   "cell_type": "code",
   "execution_count": 26,
   "metadata": {},
   "outputs": [
    {
     "data": {
      "text/plain": [
       "0.18461538461538463"
      ]
     },
     "execution_count": 26,
     "metadata": {},
     "output_type": "execute_result"
    }
   ],
   "source": [
    "import imblearn\n",
    "from imblearn.over_sampling import SMOTE\n",
    "\n",
    "y = creditcard.Class\n",
    "X = creditcard.drop('Class', axis=1)\n",
    "X_train, X_test, y_train, y_test = train_test_split(X, y, test_size=0.25, random_state=27)\n",
    "\n",
    "sm = SMOTE(random_state=27)\n",
    "X_train, y_train = sm.fit_sample(X_train, y_train)\n",
    "\n",
    "smote = LogisticRegression(solver='liblinear').fit(X_train, y_train)\n",
    "smote_pred = smote.predict(X_test)\n",
    "f1_score(y_test, smote_pred)"
   ]
  },
  {
   "cell_type": "markdown",
   "metadata": {},
   "source": [
    "|accuracy | recall | f1-score | dataset |\n",
    "|---------|--------|----------|---------|\n",
    "|0,999    |0,644   |0,724     | original|\n",
    "|0,985    |0,863   |0,184     |SMOTE    |\n",
    "\n",
    "Результат схож с предыдущим вариантом"
   ]
  },
  {
   "cell_type": "markdown",
   "metadata": {},
   "source": [
    "Мы можем попоробовать так же изменить сам алгоритм и вместо логистической регрессии использовать, к примеру, решающие деревья"
   ]
  },
  {
   "cell_type": "markdown",
   "metadata": {},
   "source": [
    "<h3>Random Forest Classifier </h3>"
   ]
  },
  {
   "cell_type": "code",
   "execution_count": 30,
   "metadata": {},
   "outputs": [],
   "source": [
    "from sklearn.ensemble import RandomForestClassifier\n",
    "\n",
    "y = creditcard.Class\n",
    "X = creditcard.drop('Class', axis=1)\n",
    "\n",
    "X_train, X_test, y_train, y_test = train_test_split(X, y, test_size=0.25, random_state=27)\n",
    "\n",
    "rfc = RandomForestClassifier(n_estimators=10).fit(X_train, y_train)\n",
    "rfc_pred = rfc.predict(X_test)\n",
    "\n"
   ]
  },
  {
   "cell_type": "markdown",
   "metadata": {},
   "source": [
    "|accuracy | recall | f1-score | dataset |\n",
    "|---------|--------|----------|---------|\n",
    "|0,999    |0,644   |0,724     | original|\n",
    "|0,999    |0,788   |0,874     |RFC      |\n",
    "\n",
    "В этом случае мы видим прирост по всем метрикам и можем сделать вывод, что решающие деревья - один из лучших алгоритмов для этого датасета.\n"
   ]
  }
 ],
 "metadata": {
  "kernelspec": {
   "display_name": "Python 3",
   "language": "python",
   "name": "python3"
  },
  "language_info": {
   "codemirror_mode": {
    "name": "ipython",
    "version": 3
   },
   "file_extension": ".py",
   "mimetype": "text/x-python",
   "name": "python",
   "nbconvert_exporter": "python",
   "pygments_lexer": "ipython3",
   "version": "3.7.5"
  }
 },
 "nbformat": 4,
 "nbformat_minor": 2
}
